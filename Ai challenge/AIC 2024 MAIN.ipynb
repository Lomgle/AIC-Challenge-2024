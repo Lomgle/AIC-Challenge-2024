{
 "cells": [
  {
   "cell_type": "markdown",
   "id": "fb9afb40",
   "metadata": {
    "id": "fb9afb40"
   },
   "source": [
    "Load dữ liệu keyframe từ thư mục chứa keyframe. Mỗi ảnh và thông tin đi kèm sau này sẽ được lưu trữ trong một Sample. Tất cả các Sample được lưu trong Dataset."
   ]
  },
  {
   "cell_type": "code",
   "execution_count": null,
   "id": "357d4489",
   "metadata": {
    "id": "357d4489"
   },
   "outputs": [],
   "source": [
    "import fiftyone as fo\n",
    "import fiftyone.brain as fob\n",
    "import numpy as np\n",
    "from glob import glob\n",
    "import json\n",
    "import os\n",
    "import pandas as pd"
   ]
  },
  {
   "cell_type": "markdown",
   "id": "36b7ba43",
   "metadata": {
    "id": "36b7ba43"
   },
   "source": [
    "Load dữ liệu keyframe từ thư mục chứa keyframe. Trong hướng dẫn này tất cả các file Keyframes_L*.zip được giải nén vào thư mục `D:\\AIC\\Keyframes`. Mỗi ảnh và thông tin đi kèm sau này sẽ được lưu trữ trong một `Sample`. Tất cả các `Sample` được lưu trong `Dataset`."
   ]
  },
  {
   "cell_type": "code",
   "execution_count": null,
   "id": "9e072688",
   "metadata": {
    "id": "9e072688"
   },
   "outputs": [],
   "source": [
    "dataset = fo.Dataset.from_images_dir('C:\\\\AIC Data\\\\All_Keyframes\\\\keyframes\\\\', name=None, tags=None, recursive=True)\n",
    "dataset.save()"
   ]
  },
  {
   "cell_type": "markdown",
   "id": "9b89e71c",
   "metadata": {
    "id": "9b89e71c"
   },
   "source": [
    "Sau khi dữ liệu đã load lên xong. Bạn có thể truy cập vào đường vào ứng dụng web của fiftyone từ [http://localhost:5151](http://localhost:5151)"
   ]
  },
  {
   "cell_type": "code",
   "execution_count": null,
   "id": "58be11b8",
   "metadata": {
    "id": "58be11b8"
   },
   "outputs": [],
   "source": [
    "# dataset = fo.load_dataset('2024.08.31.11.07.00')\n",
    "# session = fo.launch_app(dataset, auto=False)\n",
    "# session.open_tab()"
   ]
  },
  {
   "cell_type": "markdown",
   "id": "28298924",
   "metadata": {
    "id": "28298924"
   },
   "source": [
    "### Trích xuất thêm thông tin tên của video và frameid\n",
    "Thông tin `video` và `frameid` sẽ được lấy từ tên của tập tin keyframe."
   ]
  },
  {
   "cell_type": "code",
   "execution_count": null,
   "id": "a8ee02ad",
   "metadata": {
    "id": "a8ee02ad"
   },
   "outputs": [],
   "source": [
    "for sample in dataset:\n",
    "    _, sample['video'], sample['frameid'] = sample['filepath'][:-4].rsplit('\\\\', 2)\n",
    "    sample.save()"
   ]
  },
  {
   "cell_type": "code",
   "execution_count": null,
   "id": "6e68547f-313e-488d-b0dd-eb911eb1002c",
   "metadata": {},
   "outputs": [],
   "source": [
    "map_keyframes_path = \"C:\\\\AIC Data\\\\map-keyframes-b1\\\\map-keyframes\\\\\"\n",
    "processed_sample_count = 0\n",
    "\n",
    "for i in range(1, 13):\n",
    "    csv_files = glob(os.path.join(map_keyframes_path, f\"L{i:02}*.csv\"))\n",
    "    ptsTime_frameIdx = {}\n",
    "\n",
    "    for file in csv_files:\n",
    "        dataframe = pd.read_csv(file)\n",
    "        for _, row in dataframe.iterrows():\n",
    "            key = os.path.splitext(os.path.basename(file))[0] + f\"_{int(row['n']):03d}\"\n",
    "            ptsTime_frameIdx[key] = f\"{row['pts_time']}-{int(row['frame_idx']):d}\"\n",
    "\n",
    "    processing_count = len(ptsTime_frameIdx)\n",
    "    for sample in dataset[processed_sample_count: processed_sample_count + processing_count]:\n",
    "        key = f\"{sample['video']}_{sample['frameid']}\"\n",
    "        sample['pts_time, frame_index'] = ptsTime_frameIdx.get(key, \"\")\n",
    "        sample.save()\n",
    "\n",
    "    processed_sample_count += processing_count"
   ]
  },
  {
   "cell_type": "markdown",
   "id": "11d66008",
   "metadata": {
    "id": "11d66008"
   },
   "source": [
    "Bạn có thể xem `Sample` đầu tiên của `Dataset` bằng lệnh sau:"
   ]
  },
  {
   "cell_type": "code",
   "execution_count": null,
   "id": "6997ef1c",
   "metadata": {
    "id": "6997ef1c",
    "scrolled": true
   },
   "outputs": [],
   "source": [
    "print(dataset.first())"
   ]
  },
  {
   "cell_type": "markdown",
   "id": "4309a34f",
   "metadata": {
    "id": "4309a34f"
   },
   "source": [
    "### Thêm thông tin kết quả của object detection.\n",
    "\n",
    "Bước này có thể tốn của bạn nhiều thời gian để đọc hết tất cả các dữ liệu về object detection. Bạn có thể bỏ qua cell này và chạy cell này sau nếu muốn thử thêm các thông tin về vector CLIP embedding trước."
   ]
  },
  {
   "cell_type": "code",
   "execution_count": null,
   "id": "ad1c4395",
   "metadata": {
    "id": "ad1c4395"
   },
   "outputs": [],
   "source": [
    "# for sample in dataset:\n",
    "#     object_path = f\"D:\\\\AICBaseline\\\\objects-sample\\\\objects\\\\{sample['video']}\\\\{sample['frameid']}.json\"\n",
    "#     with open(object_path) as jsonfile:\n",
    "#         det_data = json.load(jsonfile)\n",
    "#     detections = []\n",
    "#     for cls, box, score in zip(det_data['detection_class_entities'], det_data['detection_boxes'], det_data['detection_scores']):\n",
    "#         # Convert to [top-left-x, top-left-y, width, height]\n",
    "#         boxf = [float(box[1]), float(box[0]), float(box[3]) - float(box[1]), float(box[2]) - float(box[0])]\n",
    "#         scoref = float(score)\n",
    "\n",
    "#         # Only add objects with confidence > 0.4\n",
    "#         if scoref > 0.4:\n",
    "#             detections.append(\n",
    "#                 fo.Detection(\n",
    "#                     label=cls,\n",
    "#                     bounding_box= boxf,\n",
    "#                     confidence=float(score)\n",
    "#                 )\n",
    "#             )\n",
    "#     sample[\"object_faster_rcnn\"] = fo.Detections(detections=detections)\n",
    "#     sample.save()\n"
   ]
  },
  {
   "cell_type": "markdown",
   "id": "e287dbb4",
   "metadata": {
    "id": "e287dbb4"
   },
   "source": [
    "### Thêm thông tin CLIP embedding."
   ]
  },
  {
   "cell_type": "code",
   "execution_count": null,
   "id": "58d5d9ca",
   "metadata": {
    "id": "58d5d9ca"
   },
   "outputs": [],
   "source": [
    "video_keyframe_dict = {}\n",
    "all_keyframe = glob('C:\\\\AIC Data\\\\All_Keyframes\\\\keyframes\\\\*\\\\*.jpg')\n",
    "all_video = glob('C:\\\\AIC Data\\\\All_Keyframes\\\\keyframes\\\\*')\n",
    "all_video = [v.rsplit('\\\\',1)[-1] for v in all_video]"
   ]
  },
  {
   "cell_type": "code",
   "execution_count": null,
   "id": "7d553dc7",
   "metadata": {},
   "outputs": [],
   "source": [
    "print(video_keyframe_dict)"
   ]
  },
  {
   "cell_type": "markdown",
   "id": "53460b70",
   "metadata": {
    "id": "53460b70"
   },
   "source": [
    "Đọc thông tin clip embedding được cung cấp.\n",
    "\n",
    "Lưu ý: Các bạn cần tải đúng bản CLIP embedding từ model **CLIP ViT-B/32**"
   ]
  },
  {
   "cell_type": "markdown",
   "id": "cb927629",
   "metadata": {
    "id": "cb927629"
   },
   "source": [
    "Tạo dictionary `video_keyframe_dict` với `video_keyframe_dict[video]` thông tin danh sách `keyframe` của `video`"
   ]
  },
  {
   "cell_type": "code",
   "execution_count": null,
   "id": "f33da133",
   "metadata": {
    "id": "f33da133"
   },
   "outputs": [],
   "source": [
    "for kf in all_keyframe:\n",
    "    _, vid, kf = kf[:-4].rsplit('\\\\',2)\n",
    "    if vid not in video_keyframe_dict.keys():\n",
    "        video_keyframe_dict[vid] = [kf]\n",
    "    else:\n",
    "        video_keyframe_dict[vid].append(kf)"
   ]
  },
  {
   "cell_type": "markdown",
   "id": "faefe0bf",
   "metadata": {
    "id": "faefe0bf"
   },
   "source": [
    "Do thông tin vector CLIP embedding được cung cấp được lưu theo từng video nhầm mục đích tối ưu thời gian đọc dữ liệu. Cần sort lại danh sách `keyframe` của từng `video` để đảm bảo thứ tự đọc đúng với vector embedding được cung cấp."
   ]
  },
  {
   "cell_type": "code",
   "execution_count": null,
   "id": "4b0fad7a",
   "metadata": {
    "id": "4b0fad7a"
   },
   "outputs": [],
   "source": [
    "for k,v in video_keyframe_dict.items():\n",
    "    video_keyframe_dict[k] = sorted(v)"
   ]
  },
  {
   "cell_type": "markdown",
   "id": "9d99d121",
   "metadata": {
    "id": "9d99d121"
   },
   "source": [
    "Tạo dictionary `embedding_dict` với `embedding_dict[video][keyframe]` lưu thông tin vector CLIP embedding của `keyframe` trong `video` tương ứng"
   ]
  },
  {
   "cell_type": "code",
   "execution_count": null,
   "id": "a5d94d7b",
   "metadata": {
    "id": "a5d94d7b"
   },
   "outputs": [],
   "source": [
    "embedding_dict = {}\n",
    "for v in all_video:\n",
    "    clip_path = f'C:\\\\AIC Data\\\\clip-features-32-b1\\\\clip-features-32\\\\{v}.npy'\n",
    "    a = np.load(clip_path)\n",
    "    embedding_dict[v] = {}\n",
    "    for i,k in enumerate(video_keyframe_dict[v]):\n",
    "        embedding_dict[v][k] = a[i]\n"
   ]
  },
  {
   "cell_type": "markdown",
   "id": "5ea0432e",
   "metadata": {
    "id": "5ea0432e"
   },
   "source": [
    "Tạo danh sách `clip_embedding` ứng với danh sách `sample` trong `dataset`."
   ]
  },
  {
   "cell_type": "code",
   "execution_count": null,
   "id": "1ad16b5c",
   "metadata": {
    "id": "1ad16b5c"
   },
   "outputs": [],
   "source": [
    "clip_embeddings = []\n",
    "for sample in dataset:\n",
    "    clip_embedding = embedding_dict[sample['video']][sample['frameid']]\n",
    "    clip_embeddings.append(clip_embedding)\n"
   ]
  },
  {
   "cell_type": "code",
   "execution_count": null,
   "id": "33389802-2683-4ff7-a514-6ba2f42a18c1",
   "metadata": {},
   "outputs": [],
   "source": [
    "embedding_dict.keys()"
   ]
  },
  {
   "cell_type": "code",
   "execution_count": null,
   "id": "655d2feb",
   "metadata": {
    "id": "655d2feb",
    "scrolled": true
   },
   "outputs": [],
   "source": [
    "fob.compute_similarity(\n",
    "    dataset,\n",
    "    model=\"clip-vit-base32-torch\",      # store model's name for future use\n",
    "    embeddings=clip_embeddings,          # precomputed image embeddings\n",
    "    brain_key=\"img_sim\",\n",
    ")"
   ]
  },
  {
   "cell_type": "markdown",
   "id": "99223338",
   "metadata": {
    "id": "99223338"
   },
   "source": [
    "## Từ đây các bạn có thể thử các tính năng search, filter trên ứng dụng fiftyone."
   ]
  },
  {
   "cell_type": "code",
   "execution_count": null,
   "id": "46605386",
   "metadata": {
    "id": "46605386"
   },
   "outputs": [],
   "source": [
    "fob.compute_visualization(\n",
    "    dataset,\n",
    "    embeddings=clip_embeddings,\n",
    "    brain_key=\"img_viz\"\n",
    ")\n"
   ]
  },
  {
   "cell_type": "code",
   "execution_count": null,
   "id": "94952ee7",
   "metadata": {},
   "outputs": [],
   "source": [
    "datasets = fo.list_datasets()\n",
    "print(datasets)"
   ]
  },
  {
   "cell_type": "code",
   "execution_count": null,
   "id": "69f4cff6",
   "metadata": {},
   "outputs": [],
   "source": [
    "dataset.export(\n",
    "    export_dir=\"D:/AO THAT DAY!\",\n",
    "    dataset_type=fo.types.FiftyOneDataset,\n",
    ")"
   ]
  }
 ],
 "metadata": {
  "colab": {
   "provenance": []
  },
  "kernelspec": {
   "display_name": "Python 3 (ipykernel)",
   "language": "python",
   "name": "python3"
  },
  "language_info": {
   "codemirror_mode": {
    "name": "ipython",
    "version": 3
   },
   "file_extension": ".py",
   "mimetype": "text/x-python",
   "name": "python",
   "nbconvert_exporter": "python",
   "pygments_lexer": "ipython3",
   "version": "3.12.4"
  }
 },
 "nbformat": 4,
 "nbformat_minor": 5
}
